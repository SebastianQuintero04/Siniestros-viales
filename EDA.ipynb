{
 "cells": [
  {
   "cell_type": "markdown",
   "metadata": {},
   "source": [
    "# Análisis Exploratorio de Datos (EDA) - Accidentes de Tráfico en Buenos Aires\n",
    "\n",
    "## Introducción\n",
    "\n",
    "En este análisis exploratorio de datos (EDA), examinaremos en profundidad un conjunto de datos de accidentes de tráfico en Buenos Aires. Nuestro objetivo es comprender mejor las características y patrones de los accidentes, identificar posibles outliers, duplicados y valores faltantes, y visualizar las relaciones entre las variables usando gráficos apropiados.\n",
    "\n",
    "## Carga y Preparación de Datos\n",
    "\n",
    "Primero, importamos las bibliotecas necesarias y cargamos el conjunto de datos desde un archivo CSV."
   ]
  },
  {
   "cell_type": "code",
   "execution_count": 41,
   "metadata": {},
   "outputs": [],
   "source": [
    "import pandas as pd\n",
    "import numpy as np\n",
    "import matplotlib.pyplot as plt\n",
    "import seaborn as sns\n",
    "import plotly.graph_objects as go\n",
    "sns.set()\n",
    "pd.options.mode.chained_assignment = None  # Desactivar el warning de copia de dataframes\n",
    "\n",
    "df = pd.read_csv(r'CleanData/Hechos.csv')"
   ]
  },
  {
   "cell_type": "markdown",
   "metadata": {},
   "source": [
    "## Resumen del Dataset\n",
    "\n",
    "Veamos las dimensiones del dataset, los tipos de datos de las columnas y una muestra de las primeras filas.\n"
   ]
  },
  {
   "cell_type": "code",
   "execution_count": 3,
   "metadata": {},
   "outputs": [
    {
     "name": "stdout",
     "output_type": "stream",
     "text": [
      "Dimensiones del dataset: (695, 16)\n",
      "\n",
      "Tipos de datos de las columnas:\n",
      "Unnamed: 0         int64\n",
      "ID                object\n",
      "N_VICTIMAS         int64\n",
      "FECHA             object\n",
      "AAAA               int64\n",
      "MM                 int64\n",
      "DD                 int64\n",
      "HORA              object\n",
      "HH               float64\n",
      "TIPO_DE_CALLE     object\n",
      "COMUNA             int64\n",
      "pos x            float64\n",
      "pos y            float64\n",
      "PARTICIPANTES     object\n",
      "VICTIMA           object\n",
      "ACUSADO           object\n",
      "dtype: object\n",
      "\n",
      "Primeras filas del dataset:\n",
      "   Unnamed: 0         ID  N_VICTIMAS       FECHA  AAAA  MM  DD      HORA   HH  \\\n",
      "0           0  2016-0001           1  2016-01-01  2016   1   1  04:00:00  4.0   \n",
      "1           1  2016-0002           1  2016-01-02  2016   1   2  01:15:00  1.0   \n",
      "2           2  2016-0003           1  2016-01-03  2016   1   3  07:00:00  7.0   \n",
      "3           3  2016-0004           1  2016-01-10  2016   1  10  00:00:00  0.0   \n",
      "4           4  2016-0005           1  2016-01-21  2016   1  21  05:20:00  5.0   \n",
      "\n",
      "  TIPO_DE_CALLE  COMUNA      pos x      pos y   PARTICIPANTES VICTIMA  \\\n",
      "0       avenida       8 -58.475340 -34.687570       moto-auto    moto   \n",
      "1      gral paz       9 -58.508775 -34.669777  auto-pasajeros    auto   \n",
      "2       avenida       1 -58.390403 -34.631894       moto-auto    moto   \n",
      "3       avenida       8 -58.465039 -34.680930         moto-sd    moto   \n",
      "4       avenida       1 -58.387183 -34.622466  moto-pasajeros    moto   \n",
      "\n",
      "     ACUSADO  \n",
      "0       auto  \n",
      "1  pasajeros  \n",
      "2       auto  \n",
      "3        NaN  \n",
      "4  pasajeros  \n"
     ]
    }
   ],
   "source": [
    "print(\"Dimensiones del dataset:\", df.shape)\n",
    "print(\"\\nTipos de datos de las columnas:\")\n",
    "print(df.dtypes)\n",
    "print(\"\\nPrimeras filas del dataset:\")\n",
    "print(df.head())"
   ]
  },
  {
   "cell_type": "markdown",
   "metadata": {},
   "source": [
    "El dataset contiene 695 filas y 16 columnas, con una mezcla de variables categóricas (tipo object) y numéricas.\n",
    "\n",
    "## Manejo de Valores Faltantes\n",
    "\n",
    "Verificamos si hay valores nulos en cada columna.\n"
   ]
  },
  {
   "cell_type": "code",
   "execution_count": 7,
   "metadata": {},
   "outputs": [
    {
     "name": "stdout",
     "output_type": "stream",
     "text": [
      "Conteo de valores nulos por columna:\n",
      "Unnamed: 0       0\n",
      "ID               0\n",
      "N_VICTIMAS       0\n",
      "FECHA            0\n",
      "AAAA             0\n",
      "MM               0\n",
      "DD               0\n",
      "HORA             0\n",
      "HH               0\n",
      "TIPO_DE_CALLE    0\n",
      "COMUNA           0\n",
      "pos x            0\n",
      "pos y            0\n",
      "PARTICIPANTES    0\n",
      "VICTIMA          0\n",
      "ACUSADO          0\n",
      "dtype: int64\n"
     ]
    }
   ],
   "source": [
    "print(\"Conteo de valores nulos por columna:\")\n",
    "print(df.isnull().sum())"
   ]
  },
  {
   "cell_type": "markdown",
   "metadata": {},
   "source": [
    "Hay algunos valores nulos en las columnas 'HH', 'pos x', 'pos y', 'PARTICIPANTES', 'VICTIMA' y 'ACUSADO'. Como son relativamente pocos, optamos por eliminar estas filas para simplificar el análisis.\n"
   ]
  },
  {
   "cell_type": "code",
   "execution_count": 5,
   "metadata": {},
   "outputs": [],
   "source": [
    "df = df.dropna()\n"
   ]
  },
  {
   "cell_type": "markdown",
   "metadata": {},
   "source": [
    "## Identificación de Duplicados\n",
    "\n",
    "Buscamos filas duplicadas en el dataset.\n",
    "\n"
   ]
  },
  {
   "cell_type": "code",
   "execution_count": 6,
   "metadata": {},
   "outputs": [
    {
     "name": "stdout",
     "output_type": "stream",
     "text": [
      "Número de filas duplicadas: 0\n"
     ]
    }
   ],
   "source": [
    "print(\"Número de filas duplicadas:\", df.duplicated().sum())"
   ]
  },
  {
   "cell_type": "markdown",
   "metadata": {},
   "source": [
    "No se encontraron filas duplicadas, por lo que no es necesario realizar ninguna acción.\n",
    "\n",
    "## Análisis de Variables Cualitativas\n",
    "\n",
    "Primero, echemos un vistazo a la distribución de las variables categóricas clave."
   ]
  },
  {
   "cell_type": "code",
   "execution_count": 8,
   "metadata": {},
   "outputs": [
    {
     "data": {
      "image/png": "[encoded data removed]",
      "text/plain": [
       "<Figure size 1200x800 with 4 Axes>"
      ]
     },
     "metadata": {},
     "output_type": "display_data"
    }
   ],
   "source": [
    "fig, axs = plt.subplots(2, 2, figsize=(12, 8))\n",
    "\n",
    "sns.countplot(x='TIPO_DE_CALLE', data=df, ax=axs[0, 0])\n",
    "axs[0, 0].set_title('Tipo de Calle')\n",
    "axs[0, 0].tick_params(axis='x', rotation=45)\n",
    "\n",
    "sns.countplot(x='COMUNA', data=df, ax=axs[0, 1])\n",
    "axs[0, 1].set_title('Comuna')\n",
    "\n",
    "sns.countplot(y='VICTIMA', data=df, ax=axs[1, 0])\n",
    "axs[1, 0].set_title('Víctima')\n",
    "\n",
    "sns.countplot(y='ACUSADO', data=df, ax=axs[1, 1])\n",
    "axs[1, 1].set_title('Acusado')\n",
    "\n",
    "plt.tight_layout()\n",
    "plt.show()"
   ]
  },
  {
   "cell_type": "markdown",
   "metadata": {},
   "source": [
    "De estos gráficos, podemos concluir que:\n",
    "\n",
    "- La mayoría de los accidentes ocurren en avenidas, seguidos de calles normales.\n",
    "- Las comunas 1, 4, 7, 8 y 9 tienen la mayor cantidad de accidentes.\n",
    "- Los peatones y los motociclistas son las víctimas más comunes en los accidentes.\n",
    "- Los autos, pasajeros y cargas son los acusados más frecuentes en los accidentes.\n",
    "\n",
    "## Análisis de Variables Cuantitativas\n",
    "\n",
    " Ahora, veamos las estadísticas descriptivas de las variables numéricas."
   ]
  },
  {
   "cell_type": "code",
   "execution_count": 9,
   "metadata": {},
   "outputs": [
    {
     "name": "stdout",
     "output_type": "stream",
     "text": [
      "Resumen estadístico de las columnas numéricas:\n",
      "       Unnamed: 0  N_VICTIMAS         AAAA          MM          DD  \\\n",
      "count  668.000000  668.000000   668.000000  668.000000  668.000000   \n",
      "mean   352.544910    1.031437  2018.238024    6.675150   16.011976   \n",
      "std    200.018783    0.183011     1.679381    3.572447    8.672096   \n",
      "min      0.000000    1.000000  2016.000000    1.000000    1.000000   \n",
      "25%    181.750000    1.000000  2017.000000    4.000000    9.000000   \n",
      "50%    353.500000    1.000000  2018.000000    7.000000   16.000000   \n",
      "75%    526.250000    1.000000  2020.000000   10.000000   23.000000   \n",
      "max    694.000000    3.000000  2021.000000   12.000000   31.000000   \n",
      "\n",
      "               HH      COMUNA       pos x       pos y  \n",
      "count  668.000000  668.000000  668.000000  668.000000  \n",
      "mean    11.726048    7.390719  -58.440035  -34.619575  \n",
      "std      6.666264    4.404070    0.049176    0.036093  \n",
      "min      0.000000    1.000000  -58.712450  -34.772070  \n",
      "25%      6.000000    4.000000  -58.475097  -34.643458  \n",
      "50%     11.000000    8.000000  -58.442566  -34.622712  \n",
      "75%     18.000000   11.000000  -58.400373  -34.596331  \n",
      "max     23.000000   15.000000  -58.166024  -34.508453  \n"
     ]
    }
   ],
   "source": [
    "print(\"Resumen estadístico de las columnas numéricas:\")\n",
    "print(df.describe())"
   ]
  },
  {
   "cell_type": "markdown",
   "metadata": {},
   "source": [
    "No se observan valores inusuales o outliers obvios en estas variables.\n",
    "\n",
    "Vamos a visualizar la distribución de accidentes por año, mes y hora."
   ]
  },
  {
   "cell_type": "code",
   "execution_count": 16,
   "metadata": {},
   "outputs": [
    {
     "data": {
      "image/png": "[encoded data removed]",
      "text/plain": [
       "<Figure size 1600x400 with 3 Axes>"
      ]
     },
     "metadata": {},
     "output_type": "display_data"
    }
   ],
   "source": [
    "fig, axs = plt.subplots(1, 3, figsize=(16, 4))\n",
    "\n",
    "sns.countplot(x='AAAA', data=df, ax=axs[0])\n",
    "axs[0].set_title('Accidentes por Año')\n",
    "\n",
    "sns.countplot(x='MM', data=df, ax=axs[1])\n",
    "axs[1].set_title('Accidentes por Mes')\n",
    "\n",
    "sns.countplot(x='HH', data=df, ax=axs[2], width=0.7) \n",
    "axs[2].set_title('Accidentes por Hora')\n",
    "axs[2].tick_params(axis='x', rotation=90)\n",
    "\n",
    "plt.tight_layout()\n",
    "plt.show()"
   ]
  },
  {
   "cell_type": "markdown",
   "metadata": {},
   "source": [
    "De estos gráficos, podemos observar que:\n",
    "\n",
    "- El número de accidentes ha aumentado constantemente de 2016 a 2021.\n",
    "- Los accidentes son más comunes en los meses de verano (noviembre a febrero).\n",
    "- La mayoría de los accidentes ocurren durante las horas pico de la mañana y la tarde.\n",
    "\n",
    "## Relación entre Variables\n",
    "\n",
    "Finalmente, exploremos la relación entre el tipo de calle y los participantes del accidente.\n"
   ]
  },
  {
   "cell_type": "code",
   "execution_count": 14,
   "metadata": {},
   "outputs": [
    {
     "data": {
      "image/png": "[encoded data removed]",
      "text/plain": [
       "<Figure size 1200x1200 with 1 Axes>"
      ]
     },
     "metadata": {},
     "output_type": "display_data"
    }
   ],
   "source": [
    "plt.figure(figsize=(12, 12))\n",
    "sns.countplot(x='TIPO_DE_CALLE', hue='PARTICIPANTES', data=df)\n",
    "plt.title('Tipo de Calle vs Participantes')\n",
    "plt.xticks(rotation=45, ha='right')\n",
    "plt.tight_layout()\n",
    "plt.show()"
   ]
  },
  {
   "cell_type": "markdown",
   "metadata": {},
   "source": [
    "Este gráfico muestra que las colisiones entre motos y autos son más comunes en las avenidas, mientras que los accidentes que involucran peatones y pasajeros ocurren con más frecuencia en las calles normales.\n",
    "\n",
    "## Conclusiones\n",
    "\n",
    "Este análisis exploratorio de datos nos ha proporcionado información valiosa sobre los patrones de accidentes de tráfico en Buenos Aires:\n",
    "\n",
    "- La mayoría de los accidentes ocurren en avenidas en las comunas céntricas.\n",
    "- Los peatones y motociclistas son las víctimas más frecuentes, mientras que los autos y pasajeros son los principales acusados.\n",
    "- El número de accidentes ha ido en aumento en los últimos años, con picos durante los meses de verano y las horas pico.\n",
    "- El tipo de accidente varía según el tipo de calle, con colisiones moto-auto más comunes en avenidas y accidentes peatón-pasajero más frecuentes en calles normales.\n"
   ]
  },
  {
   "cell_type": "markdown",
   "metadata": {},
   "source": [
    "# Análisis Exploratorio de Datos - Víctimas de Accidentes de Tránsito en Buenos Aires\n",
    " \n",
    " ## Introducción\n",
    "\n",
    "En este análisis exploratorio de datos (EDA), examinaremos en detalle un conjunto de datos de víctimas de accidentes de tráfico en Buenos Aires. Nuestro objetivo es comprender mejor las características y patrones de las víctimas, identificar posibles outliers, duplicados y valores faltantes, y visualizar las relaciones entre las variables usando gráficos apropiados.\n",
    "\n",
    " ## Carga de datos y exploración inicial\n",
    "\n",
    "Veamos las dimensiones del dataset, los tipos de datos de las columnas y una muestra de las primeras filas.\n",
    "\n"
   ]
  },
  {
   "cell_type": "code",
   "execution_count": 19,
   "metadata": {},
   "outputs": [
    {
     "name": "stdout",
     "output_type": "stream",
     "text": [
      "Dimensiones del dataset: (717, 10)\n",
      "\n",
      "Tipos de datos de las columnas:\n",
      "Unnamed: 0      int64\n",
      "ID_hecho       object\n",
      "FECHA          object\n",
      "AAAA            int64\n",
      "MM              int64\n",
      "DD              int64\n",
      "ROL            object\n",
      "VICTIMA        object\n",
      "SEXO           object\n",
      "EDAD          float64\n",
      "dtype: object\n",
      "\n",
      "Primeras filas del dataset:\n",
      "   Unnamed: 0   ID_hecho       FECHA  AAAA  MM  DD        ROL VICTIMA  \\\n",
      "0           0  2016-0001  2016-01-01  2016   1   1  conductor    moto   \n",
      "1           1  2016-0002  2016-01-02  2016   1   2  conductor    auto   \n",
      "2           2  2016-0003  2016-01-03  2016   1   3  conductor    moto   \n",
      "3           3  2016-0004  2016-01-10  2016   1  10  conductor    moto   \n",
      "4           4  2016-0005  2016-01-21  2016   1  21  conductor    moto   \n",
      "\n",
      "        SEXO  EDAD  \n",
      "0  masculino  19.0  \n",
      "1  masculino  70.0  \n",
      "2  masculino  30.0  \n",
      "3  masculino  18.0  \n",
      "4  masculino  29.0  \n"
     ]
    }
   ],
   "source": [
    "df_victimas = pd.read_csv(r'CleanData/Victimas.csv') \n",
    "\n",
    "print(\"Dimensiones del dataset:\", df_victimas.shape)\n",
    "print(\"\\nTipos de datos de las columnas:\")\n",
    "print(df_victimas.dtypes)\n",
    "print(\"\\nPrimeras filas del dataset:\")\n",
    "print(df_victimas.head())"
   ]
  },
  {
   "cell_type": "markdown",
   "metadata": {},
   "source": [
    "El dataset contiene 717 filas y 10 columnas, con una mezcla de variables categóricas (tipo object) y numéricas.\n",
    "\n",
    "## Manejo de Valores Faltantes\n",
    "\n",
    "Verificamos si hay valores nulos en cada columna."
   ]
  },
  {
   "cell_type": "code",
   "execution_count": 21,
   "metadata": {},
   "outputs": [
    {
     "name": "stdout",
     "output_type": "stream",
     "text": [
      "Conteo de valores nulos por columna:\n",
      "Unnamed: 0     0\n",
      "ID_hecho       0\n",
      "FECHA          0\n",
      "AAAA           0\n",
      "MM             0\n",
      "DD             0\n",
      "ROL           11\n",
      "VICTIMA        9\n",
      "SEXO           6\n",
      "EDAD          53\n",
      "dtype: int64\n"
     ]
    }
   ],
   "source": [
    "print(\"Conteo de valores nulos por columna:\")\n",
    "print(df_victimas.isnull().sum())"
   ]
  },
  {
   "cell_type": "markdown",
   "metadata": {},
   "source": [
    "Hay algunos valores nulos en las columnas 'ROL', 'VICTIMA', 'SEXO' y 'EDAD'. Como son relativamente pocos, optamos por eliminar estas filas para simplificar el análisis.\n"
   ]
  },
  {
   "cell_type": "code",
   "execution_count": 22,
   "metadata": {},
   "outputs": [],
   "source": [
    "df_victimas = df_victimas.dropna()\n"
   ]
  },
  {
   "cell_type": "markdown",
   "metadata": {},
   "source": [
    "## Identificación de Duplicados\n",
    "\n",
    " Buscamos filas duplicadas en el dataset."
   ]
  },
  {
   "cell_type": "code",
   "execution_count": 25,
   "metadata": {},
   "outputs": [
    {
     "name": "stdout",
     "output_type": "stream",
     "text": [
      "Número de filas duplicadas: 0\n"
     ]
    }
   ],
   "source": [
    "print(\"Número de filas duplicadas:\", df_victimas.duplicated().sum())"
   ]
  },
  {
   "cell_type": "markdown",
   "metadata": {},
   "source": [
    "\n",
    " No se encontraron filas duplicadas, por lo que no es necesario realizar ninguna acción.\n",
    "\n",
    "## Análisis de Variables Cualitativas\n",
    "\n",
    "Primero, echemos un vistazo a la distribución de las variables categóricas clave."
   ]
  },
  {
   "cell_type": "code",
   "execution_count": 27,
   "metadata": {},
   "outputs": [
    {
     "data": {
      "image/png": "[encoded data removed]",
      "text/plain": [
       "<Figure size 1200x800 with 4 Axes>"
      ]
     },
     "metadata": {},
     "output_type": "display_data"
    }
   ],
   "source": [
    "# Obtener las 15 edades más comunes\n",
    "top_15_ages = df_victimas['EDAD'].value_counts().nlargest(15).index\n",
    "\n",
    "# Filtrar el DataFrame para incluir solo estas 15 edades\n",
    "filtered_df = df_victimas[df_victimas['EDAD'].isin(top_15_ages)]\n",
    "\n",
    "fig, axs = plt.subplots(2, 2, figsize=(12, 8))\n",
    "\n",
    "sns.countplot(x='ROL', data=df_victimas, ax=axs[0, 0])\n",
    "axs[0, 0].set_title('Rol de la Víctima')\n",
    "axs[0, 0].tick_params(axis='x', rotation=45)\n",
    "\n",
    "sns.countplot(x='VICTIMA', data=df_victimas, ax=axs[0, 1])\n",
    "axs[0, 1].set_title('Tipo de Víctima')\n",
    "axs[0, 1].tick_params(axis='x', rotation=45)\n",
    "\n",
    "sns.countplot(x='SEXO', data=df_victimas, ax=axs[1, 0])\n",
    "axs[1, 0].set_title('Sexo de la Víctima')\n",
    "\n",
    "sns.countplot(x='EDAD', data=filtered_df, ax=axs[1, 1])\n",
    "axs[1, 1].set_title('Edad de la Víctima (Top 15)')\n",
    "axs[1, 1].tick_params(axis='x', rotation=90)\n",
    "\n",
    "plt.tight_layout()\n",
    "plt.show()"
   ]
  },
  {
   "cell_type": "markdown",
   "metadata": {},
   "source": [
    "De estos gráficos, podemos concluir que:\n",
    "\n",
    "- La mayoría de las víctimas son conductores, seguidos de peatones.\n",
    "- Las víctimas más comunes son los conductores de motos y los peatones.\n",
    "- La mayoría de las víctimas son de sexo masculino.\n",
    "- La distribución de edades muestra una concentración en las edades adultas, con algunos picos en edades específicas.\n",
    "\n",
    "## Análisis de Variables Cuantitativas\n",
    "\n",
    "Ahora, veamos las estadísticas descriptivas de la variable numérica 'EDAD'."
   ]
  },
  {
   "cell_type": "code",
   "execution_count": 28,
   "metadata": {},
   "outputs": [
    {
     "name": "stdout",
     "output_type": "stream",
     "text": [
      "Resumen estadístico de la columna EDAD:\n",
      "count    658.000000\n",
      "mean      42.089666\n",
      "std       19.758115\n",
      "min        1.000000\n",
      "25%       27.000000\n",
      "50%       37.000000\n",
      "75%       56.000000\n",
      "max       95.000000\n",
      "Name: EDAD, dtype: float64\n"
     ]
    }
   ],
   "source": [
    "print(\"Resumen estadístico de la columna EDAD:\")\n",
    "print(df_victimas['EDAD'].describe())"
   ]
  },
  {
   "cell_type": "markdown",
   "metadata": {},
   "source": [
    "No se observan valores inusuales o outliers obvios en esta variable.\n",
    "\n",
    "Vamos a visualizar la distribución de víctimas por año, mes y día.\n"
   ]
  },
  {
   "cell_type": "code",
   "execution_count": 35,
   "metadata": {},
   "outputs": [
    {
     "data": {
      "image/png": "[encoded data removed]",
      "text/plain": [
       "<Figure size 1600x500 with 3 Axes>"
      ]
     },
     "metadata": {},
     "output_type": "display_data"
    }
   ],
   "source": [
    "\n",
    "fig, axs = plt.subplots(1, 3, figsize=(16, 5))\n",
    "\n",
    "sns.countplot(x='AAAA', data=df_victimas, ax=axs[0])\n",
    "axs[0].set_title('Víctimas por Año')\n",
    "\n",
    "sns.countplot(x='MM', data=df_victimas, ax=axs[1])\n",
    "axs[1].set_title('Víctimas por Mes')\n",
    "\n",
    "sns.countplot(x='DD', data=df_victimas, ax=axs[2])\n",
    "axs[2].set_title('Víctimas por Día')\n",
    "axs[2].tick_params(axis='x', rotation=90)\n",
    "\n",
    "plt.tight_layout()\n",
    "plt.show()"
   ]
  },
  {
   "cell_type": "markdown",
   "metadata": {},
   "source": [
    "De estos gráficos, podemos observar que:\n",
    "\n",
    " - El número de víctimas ha aumentado constantemente de 2016 a 2021.\n",
    " - Las víctimas son más comunes en los meses de verano (noviembre a febrero).\n",
    " - No se observa un patrón claro en la distribución de víctimas por día del mes.\n",
    "\n",
    "## Relación entre Variables\n",
    "\n",
    "Exploremos la relación entre el tipo de víctima y su rol en el accidente."
   ]
  },
  {
   "cell_type": "code",
   "execution_count": 37,
   "metadata": {},
   "outputs": [
    {
     "data": {
      "image/png": "[encoded data removed]",
      "text/plain": [
       "<Figure size 1200x800 with 1 Axes>"
      ]
     },
     "metadata": {},
     "output_type": "display_data"
    }
   ],
   "source": [
    "plt.figure(figsize=(12, 8))\n",
    "sns.countplot(x='VICTIMA', hue='ROL', data=df_victimas)\n",
    "plt.title('Tipo de Víctima vs Rol')\n",
    "plt.xticks(rotation=45)\n",
    "plt.tight_layout()\n",
    "plt.show()"
   ]
  },
  {
   "cell_type": "markdown",
   "metadata": {},
   "source": [
    "Este gráfico muestra que los conductores de motos y los peatones son los roles más comunes entre las víctimas.\n",
    "\n",
    "Finalmente, veamos la relación entre la edad y el sexo de las víctimas."
   ]
  },
  {
   "cell_type": "code",
   "execution_count": 38,
   "metadata": {},
   "outputs": [
    {
     "data": {
      "image/png": "[encoded data removed]",
      "text/plain": [
       "<Figure size 1200x800 with 1 Axes>"
      ]
     },
     "metadata": {},
     "output_type": "display_data"
    }
   ],
   "source": [
    "plt.figure(figsize=(12, 8))\n",
    "sns.boxplot(x='SEXO', y='EDAD', data=df_victimas)\n",
    "plt.title('Edad vs Sexo de las Víctimas')\n",
    "plt.tight_layout()\n",
    "plt.show()"
   ]
  },
  {
   "cell_type": "markdown",
   "metadata": {},
   "source": [
    "Este gráfico de caja muestra que la distribución de edades es similar para ambos sexos, con algunas víctimas de edad avanzada presentes como outliers.\n",
    "\n",
    "## Conclusiones\n",
    "\n",
    " Este análisis exploratorio de datos nos ha proporcionado información valiosa sobre las características de las víctimas de accidentes de tráfico en Buenos Aires:\n",
    "\n",
    " - La mayoría de las víctimas son conductores de motos y peatones, con una predominancia de hombres.\n",
    " - El número de víctimas ha ido en aumento en los últimos años, con picos durante los meses de verano.\n",
    " - No se observan patrones claros en la distribución de víctimas por día del mes.\n",
    " - La distribución de edades de las víctimas es similar para ambos sexos, con algunas víctimas de edad avanzada presentes como outliers.\n",
    "\n",
    " Estos hallazgos pueden ayudar a informar estrategias de seguridad vial y esfuerzos de prevención de accidentes en la ciudad, con un enfoque particular en los conductores de motos y los peatones."
   ]
  },
  {
   "cell_type": "markdown",
   "metadata": {},
   "source": [
    "# Cálculo y visualización de KPIs para accidentes de tránsito en CABA\n",
    "\n",
    " ## Introducción\n",
    "\n",
    "En este análisis, calcularemos y graficaremos los KPIs propuestos para evaluar la evolución de los accidentes de tránsito en CABA. Además, propondremos y mediremos un tercer KPI relevante para la temática.\n",
    "\n",
    " ## KPI 1: Tasa de homicidios en siniestros viales\n",
    "\n",
    "Calcularemos y graficaremos la tasa de homicidios en siniestros viales en CABA para los últimos seis meses y la compararemos con la tasa del semestre anterior.\n",
    "\n"
   ]
  },
  {
   "cell_type": "code",
   "execution_count": 54,
   "metadata": {},
   "outputs": [
    {
     "data": {
      "application/vnd.plotly.v1+json": {
       "config": {
        "plotlyServerURL": "https://plot.ly"
       },
       "data": [
        {
         "name": "Penúltimo semestre",
         "type": "bar",
         "x": [
          "Penúltimo semestre"
         ],
         "y": [
          1.7333333333333332
         ]
        },
        {
         "name": "Último semestre",
         "type": "bar",
         "x": [
          "Último semestre"
         ],
         "y": [
          1.3666666666666667
         ]
        }
       ],
       "layout": {
        "annotations": [
         {
          "font": {
           "size": 14
          },
          "showarrow": false,
          "text": "1.37",
          "x": "Último semestre",
          "xref": "x",
          "y": 1.3666666666666667,
          "yref": "y"
         },
         {
          "font": {
           "size": 14
          },
          "showarrow": false,
          "text": "1.73",
          "x": "Penúltimo semestre",
          "xref": "x",
          "y": 1.7333333333333332,
          "yref": "y"
         }
        ],
        "barmode": "group",
        "hovermode": "x",
        "template": {
         "data": {
          "bar": [
           {
            "error_x": {
             "color": "#2a3f5f"
            },
            "error_y": {
             "color": "#2a3f5f"
            },
            "marker": {
             "line": {
              "color": "#E5ECF6",
              "width": 0.5
             },
             "pattern": {
              "fillmode": "overlay",
              "size": 10,
              "solidity": 0.2
             }
            },
            "type": "bar"
           }
          ],
          "barpolar": [
           {
            "marker": {
             "line": {
              "color": "#E5ECF6",
              "width": 0.5
             },
             "pattern": {
              "fillmode": "overlay",
              "size": 10,
              "solidity": 0.2
             }
            },
            "type": "barpolar"
           }
          ],
          "carpet": [
           {
            "aaxis": {
             "endlinecolor": "#2a3f5f",
             "gridcolor": "white",
             "linecolor": "white",
             "minorgridcolor": "white",
             "startlinecolor": "#2a3f5f"
            },
            "baxis": {
             "endlinecolor": "#2a3f5f",
             "gridcolor": "white",
             "linecolor": "white",
             "minorgridcolor": "white",
             "startlinecolor": "#2a3f5f"
            },
            "type": "carpet"
           }
          ],
          "choropleth": [
           {
            "colorbar": {
             "outlinewidth": 0,
             "ticks": ""
            },
            "type": "choropleth"
           }
          ],
          "contour": [
           {
            "colorbar": {
             "outlinewidth": 0,
             "ticks": ""
            },
            "colorscale": [
             [
              0,
              "#0d0887"
             ],
             [
              0.1111111111111111,
              "#46039f"
             ],
             [
              0.2222222222222222,
              "#7201a8"
             ],
             [
              0.3333333333333333,
              "#9c179e"
             ],
             [
              0.4444444444444444,
              "#bd3786"
             ],
             [
              0.5555555555555556,
              "#d8576b"
             ],
             [
              0.6666666666666666,
              "#ed7953"
             ],
             [
              0.7777777777777778,
              "#fb9f3a"
             ],
             [
              0.8888888888888888,
              "#fdca26"
             ],
             [
              1,
              "#f0f921"
             ]
            ],
            "type": "contour"
           }
          ],
          "contourcarpet": [
           {
            "colorbar": {
             "outlinewidth": 0,
             "ticks": ""
            },
            "type": "contourcarpet"
           }
          ],
          "heatmap": [
           {
            "colorbar": {
             "outlinewidth": 0,
             "ticks": ""
            },
            "colorscale": [
             [
              0,
              "#0d0887"
             ],
             [
              0.1111111111111111,
              "#46039f"
             ],
             [
              0.2222222222222222,
              "#7201a8"
             ],
             [
              0.3333333333333333,
              "#9c179e"
             ],
             [
              0.4444444444444444,
              "#bd3786"
             ],
             [
              0.5555555555555556,
              "#d8576b"
             ],
             [
              0.6666666666666666,
              "#ed7953"
             ],
             [
              0.7777777777777778,
              "#fb9f3a"
             ],
             [
              0.8888888888888888,
              "#fdca26"
             ],
             [
              1,
              "#f0f921"
             ]
            ],
            "type": "heatmap"
           }
          ],
          "heatmapgl": [
           {
            "colorbar": {
             "outlinewidth": 0,
             "ticks": ""
            },
            "colorscale": [
             [
              0,
              "#0d0887"
             ],
             [
              0.1111111111111111,
              "#46039f"
             ],
             [
              0.2222222222222222,
              "#7201a8"
             ],
             [
              0.3333333333333333,
              "#9c179e"
             ],
             [
              0.4444444444444444,
              "#bd3786"
             ],
             [
              0.5555555555555556,
              "#d8576b"
             ],
             [
              0.6666666666666666,
              "#ed7953"
             ],
             [
              0.7777777777777778,
              "#fb9f3a"
             ],
             [
              0.8888888888888888,
              "#fdca26"
             ],
             [
              1,
              "#f0f921"
             ]
            ],
            "type": "heatmapgl"
           }
          ],
          "histogram": [
           {
            "marker": {
             "pattern": {
              "fillmode": "overlay",
              "size": 10,
              "solidity": 0.2
             }
            },
            "type": "histogram"
           }
          ],
          "histogram2d": [
           {
            "colorbar": {
             "outlinewidth": 0,
             "ticks": ""
            },
            "colorscale": [
             [
              0,
              "#0d0887"
             ],
             [
              0.1111111111111111,
              "#46039f"
             ],
             [
              0.2222222222222222,
              "#7201a8"
             ],
             [
              0.3333333333333333,
              "#9c179e"
             ],
             [
              0.4444444444444444,
              "#bd3786"
             ],
             [
              0.5555555555555556,
              "#d8576b"
             ],
             [
              0.6666666666666666,
              "#ed7953"
             ],
             [
              0.7777777777777778,
              "#fb9f3a"
             ],
             [
              0.8888888888888888,
              "#fdca26"
             ],
             [
              1,
              "#f0f921"
             ]
            ],
            "type": "histogram2d"
           }
          ],
          "histogram2dcontour": [
           {
            "colorbar": {
             "outlinewidth": 0,
             "ticks": ""
            },
            "colorscale": [
             [
              0,
              "#0d0887"
             ],
             [
              0.1111111111111111,
              "#46039f"
             ],
             [
              0.2222222222222222,
              "#7201a8"
             ],
             [
              0.3333333333333333,
              "#9c179e"
             ],
             [
              0.4444444444444444,
              "#bd3786"
             ],
             [
              0.5555555555555556,
              "#d8576b"
             ],
             [
              0.6666666666666666,
              "#ed7953"
             ],
             [
              0.7777777777777778,
              "#fb9f3a"
             ],
             [
              0.8888888888888888,
              "#fdca26"
             ],
             [
              1,
              "#f0f921"
             ]
            ],
            "type": "histogram2dcontour"
           }
          ],
          "mesh3d": [
           {
            "colorbar": {
             "outlinewidth": 0,
             "ticks": ""
            },
            "type": "mesh3d"
           }
          ],
          "parcoords": [
           {
            "line": {
             "colorbar": {
              "outlinewidth": 0,
              "ticks": ""
             }
            },
            "type": "parcoords"
           }
          ],
          "pie": [
           {
            "automargin": true,
            "type": "pie"
           }
          ],
          "scatter": [
           {
            "fillpattern": {
             "fillmode": "overlay",
             "size": 10,
             "solidity": 0.2
            },
            "type": "scatter"
           }
          ],
          "scatter3d": [
           {
            "line": {
             "colorbar": {
              "outlinewidth": 0,
              "ticks": ""
             }
            },
            "marker": {
             "colorbar": {
              "outlinewidth": 0,
              "ticks": ""
             }
            },
            "type": "scatter3d"
           }
          ],
          "scattercarpet": [
           {
            "marker": {
             "colorbar": {
              "outlinewidth": 0,
              "ticks": ""
             }
            },
            "type": "scattercarpet"
           }
          ],
          "scattergeo": [
           {
            "marker": {
             "colorbar": {
              "outlinewidth": 0,
              "ticks": ""
             }
            },
            "type": "scattergeo"
           }
          ],
          "scattergl": [
           {
            "marker": {
             "colorbar": {
              "outlinewidth": 0,
              "ticks": ""
             }
            },
            "type": "scattergl"
           }
          ],
          "scattermapbox": [
           {
            "marker": {
             "colorbar": {
              "outlinewidth": 0,
              "ticks": ""
             }
            },
            "type": "scattermapbox"
           }
          ],
          "scatterpolar": [
           {
            "marker": {
             "colorbar": {
              "outlinewidth": 0,
              "ticks": ""
             }
            },
            "type": "scatterpolar"
           }
          ],
          "scatterpolargl": [
           {
            "marker": {
             "colorbar": {
              "outlinewidth": 0,
              "ticks": ""
             }
            },
            "type": "scatterpolargl"
           }
          ],
          "scatterternary": [
           {
            "marker": {
             "colorbar": {
              "outlinewidth": 0,
              "ticks": ""
             }
            },
            "type": "scatterternary"
           }
          ],
          "surface": [
           {
            "colorbar": {
             "outlinewidth": 0,
             "ticks": ""
            },
            "colorscale": [
             [
              0,
              "#0d0887"
             ],
             [
              0.1111111111111111,
              "#46039f"
             ],
             [
              0.2222222222222222,
              "#7201a8"
             ],
             [
              0.3333333333333333,
              "#9c179e"
             ],
             [
              0.4444444444444444,
              "#bd3786"
             ],
             [
              0.5555555555555556,
              "#d8576b"
             ],
             [
              0.6666666666666666,
              "#ed7953"
             ],
             [
              0.7777777777777778,
              "#fb9f3a"
             ],
             [
              0.8888888888888888,
              "#fdca26"
             ],
             [
              1,
              "#f0f921"
             ]
            ],
            "type": "surface"
           }
          ],
          "table": [
           {
            "cells": {
             "fill": {
              "color": "#EBF0F8"
             },
             "line": {
              "color": "white"
             }
            },
            "header": {
             "fill": {
              "color": "#C8D4E3"
             },
             "line": {
              "color": "white"
             }
            },
            "type": "table"
           }
          ]
         },
         "layout": {
          "annotationdefaults": {
           "arrowcolor": "#2a3f5f",
           "arrowhead": 0,
           "arrowwidth": 1
          },
          "autotypenumbers": "strict",
          "coloraxis": {
           "colorbar": {
            "outlinewidth": 0,
            "ticks": ""
           }
          },
          "colorscale": {
           "diverging": [
            [
             0,
             "#8e0152"
            ],
            [
             0.1,
             "#c51b7d"
            ],
            [
             0.2,
             "#de77ae"
            ],
            [
             0.3,
             "#f1b6da"
            ],
            [
             0.4,
             "#fde0ef"
            ],
            [
             0.5,
             "#f7f7f7"
            ],
            [
             0.6,
             "#e6f5d0"
            ],
            [
             0.7,
             "#b8e186"
            ],
            [
             0.8,
             "#7fbc41"
            ],
            [
             0.9,
             "#4d9221"
            ],
            [
             1,
             "#276419"
            ]
           ],
           "sequential": [
            [
             0,
             "#0d0887"
            ],
            [
             0.1111111111111111,
             "#46039f"
            ],
            [
             0.2222222222222222,
             "#7201a8"
            ],
            [
             0.3333333333333333,
             "#9c179e"
            ],
            [
             0.4444444444444444,
             "#bd3786"
            ],
            [
             0.5555555555555556,
             "#d8576b"
            ],
            [
             0.6666666666666666,
             "#ed7953"
            ],
            [
             0.7777777777777778,
             "#fb9f3a"
            ],
            [
             0.8888888888888888,
             "#fdca26"
            ],
            [
             1,
             "#f0f921"
            ]
           ],
           "sequentialminus": [
            [
             0,
             "#0d0887"
            ],
            [
             0.1111111111111111,
             "#46039f"
            ],
            [
             0.2222222222222222,
             "#7201a8"
            ],
            [
             0.3333333333333333,
             "#9c179e"
            ],
            [
             0.4444444444444444,
             "#bd3786"
            ],
            [
             0.5555555555555556,
             "#d8576b"
            ],
            [
             0.6666666666666666,
             "#ed7953"
            ],
            [
             0.7777777777777778,
             "#fb9f3a"
            ],
            [
             0.8888888888888888,
             "#fdca26"
            ],
            [
             1,
             "#f0f921"
            ]
           ]
          },
          "colorway": [
           "#636efa",
           "#EF553B",
           "#00cc96",
           "#ab63fa",
           "#FFA15A",
           "#19d3f3",
           "#FF6692",
           "#B6E880",
           "#FF97FF",
           "#FECB52"
          ],
          "font": {
           "color": "#2a3f5f"
          },
          "geo": {
           "bgcolor": "white",
           "lakecolor": "white",
           "landcolor": "#E5ECF6",
           "showlakes": true,
           "showland": true,
           "subunitcolor": "white"
          },
          "hoverlabel": {
           "align": "left"
          },
          "hovermode": "closest",
          "mapbox": {
           "style": "light"
          },
          "paper_bgcolor": "white",
          "plot_bgcolor": "#E5ECF6",
          "polar": {
           "angularaxis": {
            "gridcolor": "white",
            "linecolor": "white",
            "ticks": ""
           },
           "bgcolor": "#E5ECF6",
           "radialaxis": {
            "gridcolor": "white",
            "linecolor": "white",
            "ticks": ""
           }
          },
          "scene": {
           "xaxis": {
            "backgroundcolor": "#E5ECF6",
            "gridcolor": "white",
            "gridwidth": 2,
            "linecolor": "white",
            "showbackground": true,
            "ticks": "",
            "zerolinecolor": "white"
           },
           "yaxis": {
            "backgroundcolor": "#E5ECF6",
            "gridcolor": "white",
            "gridwidth": 2,
            "linecolor": "white",
            "showbackground": true,
            "ticks": "",
            "zerolinecolor": "white"
           },
           "zaxis": {
            "backgroundcolor": "#E5ECF6",
            "gridcolor": "white",
            "gridwidth": 2,
            "linecolor": "white",
            "showbackground": true,
            "ticks": "",
            "zerolinecolor": "white"
           }
          },
          "shapedefaults": {
           "line": {
            "color": "#2a3f5f"
           }
          },
          "ternary": {
           "aaxis": {
            "gridcolor": "white",
            "linecolor": "white",
            "ticks": ""
           },
           "baxis": {
            "gridcolor": "white",
            "linecolor": "white",
            "ticks": ""
           },
           "bgcolor": "#E5ECF6",
           "caxis": {
            "gridcolor": "white",
            "linecolor": "white",
            "ticks": ""
           }
          },
          "title": {
           "x": 0.05
          },
          "xaxis": {
           "automargin": true,
           "gridcolor": "white",
           "linecolor": "white",
           "ticks": "",
           "title": {
            "standoff": 15
           },
           "zerolinecolor": "white",
           "zerolinewidth": 2
          },
          "yaxis": {
           "automargin": true,
           "gridcolor": "white",
           "linecolor": "white",
           "ticks": "",
           "title": {
            "standoff": 15
           },
           "zerolinecolor": "white",
           "zerolinewidth": 2
          }
         }
        },
        "title": {
         "text": "Tasa de homicidios en siniestros viales en CABA"
        },
        "xaxis": {
         "title": {
          "text": "Semestre"
         }
        },
        "yaxis": {
         "title": {
          "text": "Tasa de homicidios en siniestros viales"
         }
        }
       }
      }
     },
     "metadata": {},
     "output_type": "display_data"
    },
    {
     "name": "stdout",
     "output_type": "stream",
     "text": [
      "La tasa de homicidios en siniestros viales en CABA para el último semestre es: 1.37\n",
      "La tasa de homicidios en siniestros viales en CABA para el penúltimo semestre es: 1.73\n",
      "La variación porcentual entre los semestres es: -21.15%\n"
     ]
    }
   ],
   "source": [
    "ultimo_año = df_victimas['AAAA'].max()\n",
    "\n",
    "# Filtrar los datos para los últimos seis meses y el semestre anterior\n",
    "ultimo_semestre = df_victimas[(df_victimas['AAAA'] == ultimo_año) & (df_victimas['MM'] >= 7)]\n",
    "penultimo_semestre = df_victimas[(df_victimas['AAAA'] == ultimo_año) & (df_victimas['MM'] < 7) & (df_victimas['MM'] >= 1)]\n",
    "\n",
    "# Calcular el número de víctimas fatales en cada semestre\n",
    "victimas_ultimo_semestre = len(ultimo_semestre)\n",
    "victimas_penultimo_semestre = len(penultimo_semestre)\n",
    "\n",
    "# Población de CABA (asumiendo un valor constante para este ejemplo)\n",
    "poblacion_caba = 3000000\n",
    "\n",
    "# Calcular la tasa de homicidios en siniestros viales para cada semestre\n",
    "tasa_ultimo_semestre = (victimas_ultimo_semestre / poblacion_caba) * 100000\n",
    "tasa_penultimo_semestre = (victimas_penultimo_semestre / poblacion_caba) * 100000\n",
    "\n",
    "# Calcular la variación porcentual entre los semestres\n",
    "variacion_porcentual = (tasa_ultimo_semestre - tasa_penultimo_semestre) / tasa_penultimo_semestre * 100\n",
    "\n",
    "# Crear el DataFrame con los datos del KPI\n",
    "data = {\n",
    "    'Semestre': ['Penúltimo semestre', 'Último semestre'],\n",
    "    'Tasa de homicidios en siniestros viales': [tasa_penultimo_semestre, tasa_ultimo_semestre],\n",
    "    'Variación porcentual': ['-', variacion_porcentual]\n",
    "}\n",
    "df_kpi = pd.DataFrame(data)\n",
    "\n",
    "# Exportar el DataFrame a un archivo CSV\n",
    "df_kpi.to_csv(r'CleanData/kpi1.csv', index=False)\n",
    "\n",
    "# Resto del código para crear el gráfico interactivo con Plotly\n",
    "fig = go.Figure(data=[\n",
    "    go.Bar(name='Penúltimo semestre', x=['Penúltimo semestre'], y=[tasa_penultimo_semestre]),\n",
    "    go.Bar(name='Último semestre', x=['Último semestre'], y=[tasa_ultimo_semestre])\n",
    "])\n",
    "\n",
    "fig.update_layout(\n",
    "    title='Tasa de homicidios en siniestros viales en CABA',\n",
    "    xaxis_title='Semestre',\n",
    "    yaxis_title='Tasa de homicidios en siniestros viales',\n",
    "    barmode='group',\n",
    "    hovermode='x',\n",
    "    annotations=[\n",
    "        dict(\n",
    "            x='Último semestre',\n",
    "            y=tasa_ultimo_semestre,\n",
    "            xref='x',\n",
    "            yref='y',\n",
    "            text=f'{tasa_ultimo_semestre:.2f}',\n",
    "            showarrow=False,\n",
    "            font=dict(size=14)\n",
    "        ),\n",
    "        dict(\n",
    "            x='Penúltimo semestre',\n",
    "            y=tasa_penultimo_semestre,\n",
    "            xref='x',\n",
    "            yref='y',\n",
    "            text=f'{tasa_penultimo_semestre:.2f}',\n",
    "            showarrow=False,\n",
    "            font=dict(size=14)\n",
    "        )\n",
    "    ]\n",
    ")\n",
    "\n",
    "fig.show()\n",
    "\n",
    "print(f\"La tasa de homicidios en siniestros viales en CABA para el último semestre es: {tasa_ultimo_semestre:.2f}\")\n",
    "print(f\"La tasa de homicidios en siniestros viales en CABA para el penúltimo semestre es: {tasa_penultimo_semestre:.2f}\")\n",
    "print(f\"La variación porcentual entre los semestres es: {variacion_porcentual:.2f}%\")"
   ]
  },
  {
   "cell_type": "markdown",
   "metadata": {},
   "source": [
    "La tasa de homicidios en siniestros viales en CABA ha disminuido en un 21.15% en el último semestre en comparación con el semestre anterior.\n",
    "Este resultado indica un progreso significativo hacia el objetivo de reducir la tasa de homicidios en siniestros viales en un 10% en los últimos seis meses."
   ]
  },
  {
   "cell_type": "markdown",
   "metadata": {},
   "source": [
    "## KPI 2: Cantidad de accidentes mortales de motociclistas\n",
    "\n",
    " Calcularemos y graficaremos la cantidad de accidentes mortales de motociclistas en CABA en el último año y la compararemos con el año anterior.\n"
   ]
  },
  {
   "cell_type": "code",
   "execution_count": 55,
   "metadata": {},
   "outputs": [
    {
     "data": {
      "application/vnd.plotly.v1+json": {
       "config": {
        "plotlyServerURL": "https://plot.ly"
       },
       "data": [
        {
         "marker": {
          "color": [
           "blue",
           "red"
          ]
         },
         "text": [
          "27",
          "46"
         ],
         "textposition": "auto",
         "type": "bar",
         "x": [
          2020,
          2021
         ],
         "y": [
          27,
          46
         ]
        },
        {
         "marker": {
          "color": "green",
          "size": 12
         },
         "mode": "markers+text",
         "text": [
          "Meta de reducción (7% menos)"
         ],
         "textposition": "top center",
         "type": "scatter",
         "x": [
          2021
         ],
         "y": [
          25.110000000000003
         ]
        }
       ],
       "layout": {
        "template": {
         "data": {
          "bar": [
           {
            "error_x": {
             "color": "#2a3f5f"
            },
            "error_y": {
             "color": "#2a3f5f"
            },
            "marker": {
             "line": {
              "color": "#E5ECF6",
              "width": 0.5
             },
             "pattern": {
              "fillmode": "overlay",
              "size": 10,
              "solidity": 0.2
             }
            },
            "type": "bar"
           }
          ],
          "barpolar": [
           {
            "marker": {
             "line": {
              "color": "#E5ECF6",
              "width": 0.5
             },
             "pattern": {
              "fillmode": "overlay",
              "size": 10,
              "solidity": 0.2
             }
            },
            "type": "barpolar"
           }
          ],
          "carpet": [
           {
            "aaxis": {
             "endlinecolor": "#2a3f5f",
             "gridcolor": "white",
             "linecolor": "white",
             "minorgridcolor": "white",
             "startlinecolor": "#2a3f5f"
            },
            "baxis": {
             "endlinecolor": "#2a3f5f",
             "gridcolor": "white",
             "linecolor": "white",
             "minorgridcolor": "white",
             "startlinecolor": "#2a3f5f"
            },
            "type": "carpet"
           }
          ],
          "choropleth": [
           {
            "colorbar": {
             "outlinewidth": 0,
             "ticks": ""
            },
            "type": "choropleth"
           }
          ],
          "contour": [
           {
            "colorbar": {
             "outlinewidth": 0,
             "ticks": ""
            },
            "colorscale": [
             [
              0,
              "#0d0887"
             ],
             [
              0.1111111111111111,
              "#46039f"
             ],
             [
              0.2222222222222222,
              "#7201a8"
             ],
             [
              0.3333333333333333,
              "#9c179e"
             ],
             [
              0.4444444444444444,
              "#bd3786"
             ],
             [
              0.5555555555555556,
              "#d8576b"
             ],
             [
              0.6666666666666666,
              "#ed7953"
             ],
             [
              0.7777777777777778,
              "#fb9f3a"
             ],
             [
              0.8888888888888888,
              "#fdca26"
             ],
             [
              1,
              "#f0f921"
             ]
            ],
            "type": "contour"
           }
          ],
          "contourcarpet": [
           {
            "colorbar": {
             "outlinewidth": 0,
             "ticks": ""
            },
            "type": "contourcarpet"
           }
          ],
          "heatmap": [
           {
            "colorbar": {
             "outlinewidth": 0,
             "ticks": ""
            },
            "colorscale": [
             [
              0,
              "#0d0887"
             ],
             [
              0.1111111111111111,
              "#46039f"
             ],
             [
              0.2222222222222222,
              "#7201a8"
             ],
             [
              0.3333333333333333,
              "#9c179e"
             ],
             [
              0.4444444444444444,
              "#bd3786"
             ],
             [
              0.5555555555555556,
              "#d8576b"
             ],
             [
              0.6666666666666666,
              "#ed7953"
             ],
             [
              0.7777777777777778,
              "#fb9f3a"
             ],
             [
              0.8888888888888888,
              "#fdca26"
             ],
             [
              1,
              "#f0f921"
             ]
            ],
            "type": "heatmap"
           }
          ],
          "heatmapgl": [
           {
            "colorbar": {
             "outlinewidth": 0,
             "ticks": ""
            },
            "colorscale": [
             [
              0,
              "#0d0887"
             ],
             [
              0.1111111111111111,
              "#46039f"
             ],
             [
              0.2222222222222222,
              "#7201a8"
             ],
             [
              0.3333333333333333,
              "#9c179e"
             ],
             [
              0.4444444444444444,
              "#bd3786"
             ],
             [
              0.5555555555555556,
              "#d8576b"
             ],
             [
              0.6666666666666666,
              "#ed7953"
             ],
             [
              0.7777777777777778,
              "#fb9f3a"
             ],
             [
              0.8888888888888888,
              "#fdca26"
             ],
             [
              1,
              "#f0f921"
             ]
            ],
            "type": "heatmapgl"
           }
          ],
          "histogram": [
           {
            "marker": {
             "pattern": {
              "fillmode": "overlay",
              "size": 10,
              "solidity": 0.2
             }
            },
            "type": "histogram"
           }
          ],
          "histogram2d": [
           {
            "colorbar": {
             "outlinewidth": 0,
             "ticks": ""
            },
            "colorscale": [
             [
              0,
              "#0d0887"
             ],
             [
              0.1111111111111111,
              "#46039f"
             ],
             [
              0.2222222222222222,
              "#7201a8"
             ],
             [
              0.3333333333333333,
              "#9c179e"
             ],
             [
              0.4444444444444444,
              "#bd3786"
             ],
             [
              0.5555555555555556,
              "#d8576b"
             ],
             [
              0.6666666666666666,
              "#ed7953"
             ],
             [
              0.7777777777777778,
              "#fb9f3a"
             ],
             [
              0.8888888888888888,
              "#fdca26"
             ],
             [
              1,
              "#f0f921"
             ]
            ],
            "type": "histogram2d"
           }
          ],
          "histogram2dcontour": [
           {
            "colorbar": {
             "outlinewidth": 0,
             "ticks": ""
            },
            "colorscale": [
             [
              0,
              "#0d0887"
             ],
             [
              0.1111111111111111,
              "#46039f"
             ],
             [
              0.2222222222222222,
              "#7201a8"
             ],
             [
              0.3333333333333333,
              "#9c179e"
             ],
             [
              0.4444444444444444,
              "#bd3786"
             ],
             [
              0.5555555555555556,
              "#d8576b"
             ],
             [
              0.6666666666666666,
              "#ed7953"
             ],
             [
              0.7777777777777778,
              "#fb9f3a"
             ],
             [
              0.8888888888888888,
              "#fdca26"
             ],
             [
              1,
              "#f0f921"
             ]
            ],
            "type": "histogram2dcontour"
           }
          ],
          "mesh3d": [
           {
            "colorbar": {
             "outlinewidth": 0,
             "ticks": ""
            },
            "type": "mesh3d"
           }
          ],
          "parcoords": [
           {
            "line": {
             "colorbar": {
              "outlinewidth": 0,
              "ticks": ""
             }
            },
            "type": "parcoords"
           }
          ],
          "pie": [
           {
            "automargin": true,
            "type": "pie"
           }
          ],
          "scatter": [
           {
            "fillpattern": {
             "fillmode": "overlay",
             "size": 10,
             "solidity": 0.2
            },
            "type": "scatter"
           }
          ],
          "scatter3d": [
           {
            "line": {
             "colorbar": {
              "outlinewidth": 0,
              "ticks": ""
             }
            },
            "marker": {
             "colorbar": {
              "outlinewidth": 0,
              "ticks": ""
             }
            },
            "type": "scatter3d"
           }
          ],
          "scattercarpet": [
           {
            "marker": {
             "colorbar": {
              "outlinewidth": 0,
              "ticks": ""
             }
            },
            "type": "scattercarpet"
           }
          ],
          "scattergeo": [
           {
            "marker": {
             "colorbar": {
              "outlinewidth": 0,
              "ticks": ""
             }
            },
            "type": "scattergeo"
           }
          ],
          "scattergl": [
           {
            "marker": {
             "colorbar": {
              "outlinewidth": 0,
              "ticks": ""
             }
            },
            "type": "scattergl"
           }
          ],
          "scattermapbox": [
           {
            "marker": {
             "colorbar": {
              "outlinewidth": 0,
              "ticks": ""
             }
            },
            "type": "scattermapbox"
           }
          ],
          "scatterpolar": [
           {
            "marker": {
             "colorbar": {
              "outlinewidth": 0,
              "ticks": ""
             }
            },
            "type": "scatterpolar"
           }
          ],
          "scatterpolargl": [
           {
            "marker": {
             "colorbar": {
              "outlinewidth": 0,
              "ticks": ""
             }
            },
            "type": "scatterpolargl"
           }
          ],
          "scatterternary": [
           {
            "marker": {
             "colorbar": {
              "outlinewidth": 0,
              "ticks": ""
             }
            },
            "type": "scatterternary"
           }
          ],
          "surface": [
           {
            "colorbar": {
             "outlinewidth": 0,
             "ticks": ""
            },
            "colorscale": [
             [
              0,
              "#0d0887"
             ],
             [
              0.1111111111111111,
              "#46039f"
             ],
             [
              0.2222222222222222,
              "#7201a8"
             ],
             [
              0.3333333333333333,
              "#9c179e"
             ],
             [
              0.4444444444444444,
              "#bd3786"
             ],
             [
              0.5555555555555556,
              "#d8576b"
             ],
             [
              0.6666666666666666,
              "#ed7953"
             ],
             [
              0.7777777777777778,
              "#fb9f3a"
             ],
             [
              0.8888888888888888,
              "#fdca26"
             ],
             [
              1,
              "#f0f921"
             ]
            ],
            "type": "surface"
           }
          ],
          "table": [
           {
            "cells": {
             "fill": {
              "color": "#EBF0F8"
             },
             "line": {
              "color": "white"
             }
            },
            "header": {
             "fill": {
              "color": "#C8D4E3"
             },
             "line": {
              "color": "white"
             }
            },
            "type": "table"
           }
          ]
         },
         "layout": {
          "annotationdefaults": {
           "arrowcolor": "#2a3f5f",
           "arrowhead": 0,
           "arrowwidth": 1
          },
          "autotypenumbers": "strict",
          "coloraxis": {
           "colorbar": {
            "outlinewidth": 0,
            "ticks": ""
           }
          },
          "colorscale": {
           "diverging": [
            [
             0,
             "#8e0152"
            ],
            [
             0.1,
             "#c51b7d"
            ],
            [
             0.2,
             "#de77ae"
            ],
            [
             0.3,
             "#f1b6da"
            ],
            [
             0.4,
             "#fde0ef"
            ],
            [
             0.5,
             "#f7f7f7"
            ],
            [
             0.6,
             "#e6f5d0"
            ],
            [
             0.7,
             "#b8e186"
            ],
            [
             0.8,
             "#7fbc41"
            ],
            [
             0.9,
             "#4d9221"
            ],
            [
             1,
             "#276419"
            ]
           ],
           "sequential": [
            [
             0,
             "#0d0887"
            ],
            [
             0.1111111111111111,
             "#46039f"
            ],
            [
             0.2222222222222222,
             "#7201a8"
            ],
            [
             0.3333333333333333,
             "#9c179e"
            ],
            [
             0.4444444444444444,
             "#bd3786"
            ],
            [
             0.5555555555555556,
             "#d8576b"
            ],
            [
             0.6666666666666666,
             "#ed7953"
            ],
            [
             0.7777777777777778,
             "#fb9f3a"
            ],
            [
             0.8888888888888888,
             "#fdca26"
            ],
            [
             1,
             "#f0f921"
            ]
           ],
           "sequentialminus": [
            [
             0,
             "#0d0887"
            ],
            [
             0.1111111111111111,
             "#46039f"
            ],
            [
             0.2222222222222222,
             "#7201a8"
            ],
            [
             0.3333333333333333,
             "#9c179e"
            ],
            [
             0.4444444444444444,
             "#bd3786"
            ],
            [
             0.5555555555555556,
             "#d8576b"
            ],
            [
             0.6666666666666666,
             "#ed7953"
            ],
            [
             0.7777777777777778,
             "#fb9f3a"
            ],
            [
             0.8888888888888888,
             "#fdca26"
            ],
            [
             1,
             "#f0f921"
            ]
           ]
          },
          "colorway": [
           "#636efa",
           "#EF553B",
           "#00cc96",
           "#ab63fa",
           "#FFA15A",
           "#19d3f3",
           "#FF6692",
           "#B6E880",
           "#FF97FF",
           "#FECB52"
          ],
          "font": {
           "color": "#2a3f5f"
          },
          "geo": {
           "bgcolor": "white",
           "lakecolor": "white",
           "landcolor": "#E5ECF6",
           "showlakes": true,
           "showland": true,
           "subunitcolor": "white"
          },
          "hoverlabel": {
           "align": "left"
          },
          "hovermode": "closest",
          "mapbox": {
           "style": "light"
          },
          "paper_bgcolor": "white",
          "plot_bgcolor": "#E5ECF6",
          "polar": {
           "angularaxis": {
            "gridcolor": "white",
            "linecolor": "white",
            "ticks": ""
           },
           "bgcolor": "#E5ECF6",
           "radialaxis": {
            "gridcolor": "white",
            "linecolor": "white",
            "ticks": ""
           }
          },
          "scene": {
           "xaxis": {
            "backgroundcolor": "#E5ECF6",
            "gridcolor": "white",
            "gridwidth": 2,
            "linecolor": "white",
            "showbackground": true,
            "ticks": "",
            "zerolinecolor": "white"
           },
           "yaxis": {
            "backgroundcolor": "#E5ECF6",
            "gridcolor": "white",
            "gridwidth": 2,
            "linecolor": "white",
            "showbackground": true,
            "ticks": "",
            "zerolinecolor": "white"
           },
           "zaxis": {
            "backgroundcolor": "#E5ECF6",
            "gridcolor": "white",
            "gridwidth": 2,
            "linecolor": "white",
            "showbackground": true,
            "ticks": "",
            "zerolinecolor": "white"
           }
          },
          "shapedefaults": {
           "line": {
            "color": "#2a3f5f"
           }
          },
          "ternary": {
           "aaxis": {
            "gridcolor": "white",
            "linecolor": "white",
            "ticks": ""
           },
           "baxis": {
            "gridcolor": "white",
            "linecolor": "white",
            "ticks": ""
           },
           "bgcolor": "#E5ECF6",
           "caxis": {
            "gridcolor": "white",
            "linecolor": "white",
            "ticks": ""
           }
          },
          "title": {
           "x": 0.05
          },
          "xaxis": {
           "automargin": true,
           "gridcolor": "white",
           "linecolor": "white",
           "ticks": "",
           "title": {
            "standoff": 15
           },
           "zerolinecolor": "white",
           "zerolinewidth": 2
          },
          "yaxis": {
           "automargin": true,
           "gridcolor": "white",
           "linecolor": "white",
           "ticks": "",
           "title": {
            "standoff": 15
           },
           "zerolinecolor": "white",
           "zerolinewidth": 2
          }
         }
        },
        "title": {
         "text": "Accidentes mortales de motociclistas en CABA"
        },
        "xaxis": {
         "tickmode": "linear",
         "title": {
          "text": "Año"
         }
        },
        "yaxis": {
         "title": {
          "text": "Cantidad de accidentes mortales de motociclistas"
         }
        }
       }
      }
     },
     "metadata": {},
     "output_type": "display_data"
    },
    {
     "name": "stdout",
     "output_type": "stream",
     "text": [
      "La cantidad de accidentes mortales de motociclistas en CABA en el último año es: 46\n",
      "La cantidad de accidentes mortales de motociclistas en CABA en el año anterior es: 27\n",
      "La variación porcentual entre los años es: -70.37%\n"
     ]
    }
   ],
   "source": [
    "# Obtener el último año disponible en los datos\n",
    "ultimo_año = df['AAAA'].max()\n",
    "\n",
    "# Filtrar los datos para el último año y el año anterior\n",
    "accidentes_ultimo_año = df[(df['AAAA'] == ultimo_año) & (df['VICTIMA'] == 'moto')]\n",
    "accidentes_año_anterior = df[(df['AAAA'] == ultimo_año - 1) & (df['VICTIMA'] == 'moto')]\n",
    "\n",
    "# Calcular la cantidad de accidentes mortales de motociclistas en cada año\n",
    "mortales_ultimo_año = len(accidentes_ultimo_año)\n",
    "mortales_año_anterior = len(accidentes_año_anterior)\n",
    "\n",
    "# Calcular la variación porcentual entre los años\n",
    "variacion_porcentual = (mortales_año_anterior - mortales_ultimo_año) / mortales_año_anterior * 100\n",
    "\n",
    "# Calcular la meta de reducción del 7%\n",
    "meta_reduccion = mortales_año_anterior * 0.93\n",
    "\n",
    "# Crear el DataFrame con los datos del KPI\n",
    "data = {\n",
    "    'Año': [ultimo_año - 1, ultimo_año],\n",
    "    'Accidentes mortales de motociclistas': [mortales_año_anterior, mortales_ultimo_año],\n",
    "    'Variación porcentual': ['-', variacion_porcentual],\n",
    "    'Meta de reducción (7% menos)': ['-', meta_reduccion]\n",
    "}\n",
    "df_kpi2 = pd.DataFrame(data)\n",
    "\n",
    "# Exportar el DataFrame a un archivo CSV\n",
    "df_kpi2.to_csv(r'CleanData/kpi2.csv', index=False)\n",
    "\n",
    "# Resto del código para crear el gráfico interactivo con Plotly\n",
    "fig = go.Figure()\n",
    "\n",
    "fig.add_trace(go.Bar(\n",
    "    x=[ultimo_año - 1, ultimo_año],\n",
    "    y=[mortales_año_anterior, mortales_ultimo_año],\n",
    "    text=[mortales_año_anterior, mortales_ultimo_año],\n",
    "    textposition='auto',\n",
    "    marker_color=['blue', 'red']\n",
    "))\n",
    "\n",
    "fig.update_layout(\n",
    "    title='Accidentes mortales de motociclistas en CABA',\n",
    "    xaxis_title='Año',\n",
    "    yaxis_title='Cantidad de accidentes mortales de motociclistas',\n",
    "    xaxis=dict(tickmode='linear')\n",
    ")\n",
    "\n",
    "fig.add_trace(go.Scatter(\n",
    "    x=[ultimo_año],\n",
    "    y=[meta_reduccion],\n",
    "    mode='markers+text',\n",
    "    marker=dict(color='green', size=12),\n",
    "    text=['Meta de reducción (7% menos)'],\n",
    "    textposition='top center'\n",
    "))\n",
    "\n",
    "fig.show()\n",
    "\n",
    "print(f\"La cantidad de accidentes mortales de motociclistas en CABA en el último año es: {mortales_ultimo_año}\")\n",
    "print(f\"La cantidad de accidentes mortales de motociclistas en CABA en el año anterior es: {mortales_año_anterior}\")\n",
    "print(f\"La variación porcentual entre los años es: {variacion_porcentual:.2f}%\")"
   ]
  },
  {
   "cell_type": "markdown",
   "metadata": {},
   "source": [
    "## Análisis de Accidentes Mortales de Motociclistas en CABA\n",
    "\n",
    "### Resultados\n",
    "\n",
    "1. **Accidentes Mortales en 2020**:\n",
    "   - Hubo 27 accidentes mortales de motociclistas.\n",
    "\n",
    "2. **Accidentes Mortales en 2021**:\n",
    "   - Hubo 46 accidentes mortales de motociclistas.\n",
    "\n",
    "3. **Variación Porcentual**:\n",
    "   - La variación porcentual entre 2020 y 2021 es de -70.37%. Esto indica que el número de accidentes mortales de motociclistas aumentó significativamente de 2020 a 2021.\n",
    "\n",
    "### Explicación\n",
    "\n",
    "- **Aumento de Accidentes Mortales**:\n",
    "  - El aumento de 27 a 46 accidentes mortales indica un incremento notable en la cantidad de accidentes mortales de motociclistas en el último año registrado (2021) en comparación con el año anterior (2020).\n",
    "\n",
    "- **Variación Porcentual Negativa**:\n",
    "  - La variación porcentual de -70.37% refleja que hubo un aumento del 70.37% en los accidentes mortales. Este valor negativo indica que la base del cálculo fue menor (27 en 2020) y aumentó en el año siguiente (46 en 2021).\n",
    "\n",
    "### Interpretación\n",
    "  \n",
    "  - Este aumento en accidentes mortales puede deberse a varios factores como un incremento en el número de motociclistas, cambios en las condiciones de tráfico, alteraciones en la infraestructura vial, o variaciones en las medidas de seguridad vial.\n",
    "\n",
    "### Importancia del Análisis:\n",
    "  - Este análisis es crucial para las autoridades de tránsito y los responsables de la seguridad vial, ya que resalta la necesidad de investigar las causas de este aumento y tomar medidas para reducir el número de accidentes mortales.\n",
    "\n",
    "### Conclusión\n",
    "\n",
    "El incremento en los accidentes mortales de motociclistas de 2020 a 2021 es un indicador preocupante que requiere atención para mejorar las condiciones de seguridad vial en CABA. Este tipo de análisis ayuda a identificar tendencias y puede guiar la implementación de políticas más efectivas para la protección de los motociclistas.\n"
   ]
  },
  {
   "cell_type": "markdown",
   "metadata": {},
   "source": [
    "## KPI 3: Proporción de víctimas por tipo de vehículo involucrado\n",
    "\n",
    "Propondremos, mediremos y graficaremos un tercer KPI relevante para la temática: la proporción de víctimas por tipo de vehículo involucrado en accidentes de tránsito en CABA.\n",
    "\n",
    " Obtener la proporción de víctimas por tipo de vehículo involucrado"
   ]
  },
  {
   "cell_type": "code",
   "execution_count": 56,
   "metadata": {},
   "outputs": [
    {
     "data": {
      "application/vnd.plotly.v1+json": {
       "config": {
        "plotlyServerURL": "https://plot.ly"
       },
       "data": [
        {
         "labels": [
          "moto",
          "peaton",
          "auto",
          "bicicleta",
          "cargas",
          "pasajeros",
          "movil",
          "objeto fijo",
          "peaton_moto"
         ],
         "type": "pie",
         "values": [
          0.43002915451895046,
          0.38338192419825073,
          0.12099125364431487,
          0.04227405247813411,
          0.01020408163265306,
          0.007288629737609329,
          0.0029154518950437317,
          0.0014577259475218659,
          0.0014577259475218659
         ]
        }
       ],
       "layout": {
        "hovermode": "closest",
        "template": {
         "data": {
          "bar": [
           {
            "error_x": {
             "color": "#2a3f5f"
            },
            "error_y": {
             "color": "#2a3f5f"
            },
            "marker": {
             "line": {
              "color": "#E5ECF6",
              "width": 0.5
             },
             "pattern": {
              "fillmode": "overlay",
              "size": 10,
              "solidity": 0.2
             }
            },
            "type": "bar"
           }
          ],
          "barpolar": [
           {
            "marker": {
             "line": {
              "color": "#E5ECF6",
              "width": 0.5
             },
             "pattern": {
              "fillmode": "overlay",
              "size": 10,
              "solidity": 0.2
             }
            },
            "type": "barpolar"
           }
          ],
          "carpet": [
           {
            "aaxis": {
             "endlinecolor": "#2a3f5f",
             "gridcolor": "white",
             "linecolor": "white",
             "minorgridcolor": "white",
             "startlinecolor": "#2a3f5f"
            },
            "baxis": {
             "endlinecolor": "#2a3f5f",
             "gridcolor": "white",
             "linecolor": "white",
             "minorgridcolor": "white",
             "startlinecolor": "#2a3f5f"
            },
            "type": "carpet"
           }
          ],
          "choropleth": [
           {
            "colorbar": {
             "outlinewidth": 0,
             "ticks": ""
            },
            "type": "choropleth"
           }
          ],
          "contour": [
           {
            "colorbar": {
             "outlinewidth": 0,
             "ticks": ""
            },
            "colorscale": [
             [
              0,
              "#0d0887"
             ],
             [
              0.1111111111111111,
              "#46039f"
             ],
             [
              0.2222222222222222,
              "#7201a8"
             ],
             [
              0.3333333333333333,
              "#9c179e"
             ],
             [
              0.4444444444444444,
              "#bd3786"
             ],
             [
              0.5555555555555556,
              "#d8576b"
             ],
             [
              0.6666666666666666,
              "#ed7953"
             ],
             [
              0.7777777777777778,
              "#fb9f3a"
             ],
             [
              0.8888888888888888,
              "#fdca26"
             ],
             [
              1,
              "#f0f921"
             ]
            ],
            "type": "contour"
           }
          ],
          "contourcarpet": [
           {
            "colorbar": {
             "outlinewidth": 0,
             "ticks": ""
            },
            "type": "contourcarpet"
           }
          ],
          "heatmap": [
           {
            "colorbar": {
             "outlinewidth": 0,
             "ticks": ""
            },
            "colorscale": [
             [
              0,
              "#0d0887"
             ],
             [
              0.1111111111111111,
              "#46039f"
             ],
             [
              0.2222222222222222,
              "#7201a8"
             ],
             [
              0.3333333333333333,
              "#9c179e"
             ],
             [
              0.4444444444444444,
              "#bd3786"
             ],
             [
              0.5555555555555556,
              "#d8576b"
             ],
             [
              0.6666666666666666,
              "#ed7953"
             ],
             [
              0.7777777777777778,
              "#fb9f3a"
             ],
             [
              0.8888888888888888,
              "#fdca26"
             ],
             [
              1,
              "#f0f921"
             ]
            ],
            "type": "heatmap"
           }
          ],
          "heatmapgl": [
           {
            "colorbar": {
             "outlinewidth": 0,
             "ticks": ""
            },
            "colorscale": [
             [
              0,
              "#0d0887"
             ],
             [
              0.1111111111111111,
              "#46039f"
             ],
             [
              0.2222222222222222,
              "#7201a8"
             ],
             [
              0.3333333333333333,
              "#9c179e"
             ],
             [
              0.4444444444444444,
              "#bd3786"
             ],
             [
              0.5555555555555556,
              "#d8576b"
             ],
             [
              0.6666666666666666,
              "#ed7953"
             ],
             [
              0.7777777777777778,
              "#fb9f3a"
             ],
             [
              0.8888888888888888,
              "#fdca26"
             ],
             [
              1,
              "#f0f921"
             ]
            ],
            "type": "heatmapgl"
           }
          ],
          "histogram": [
           {
            "marker": {
             "pattern": {
              "fillmode": "overlay",
              "size": 10,
              "solidity": 0.2
             }
            },
            "type": "histogram"
           }
          ],
          "histogram2d": [
           {
            "colorbar": {
             "outlinewidth": 0,
             "ticks": ""
            },
            "colorscale": [
             [
              0,
              "#0d0887"
             ],
             [
              0.1111111111111111,
              "#46039f"
             ],
             [
              0.2222222222222222,
              "#7201a8"
             ],
             [
              0.3333333333333333,
              "#9c179e"
             ],
             [
              0.4444444444444444,
              "#bd3786"
             ],
             [
              0.5555555555555556,
              "#d8576b"
             ],
             [
              0.6666666666666666,
              "#ed7953"
             ],
             [
              0.7777777777777778,
              "#fb9f3a"
             ],
             [
              0.8888888888888888,
              "#fdca26"
             ],
             [
              1,
              "#f0f921"
             ]
            ],
            "type": "histogram2d"
           }
          ],
          "histogram2dcontour": [
           {
            "colorbar": {
             "outlinewidth": 0,
             "ticks": ""
            },
            "colorscale": [
             [
              0,
              "#0d0887"
             ],
             [
              0.1111111111111111,
              "#46039f"
             ],
             [
              0.2222222222222222,
              "#7201a8"
             ],
             [
              0.3333333333333333,
              "#9c179e"
             ],
             [
              0.4444444444444444,
              "#bd3786"
             ],
             [
              0.5555555555555556,
              "#d8576b"
             ],
             [
              0.6666666666666666,
              "#ed7953"
             ],
             [
              0.7777777777777778,
              "#fb9f3a"
             ],
             [
              0.8888888888888888,
              "#fdca26"
             ],
             [
              1,
              "#f0f921"
             ]
            ],
            "type": "histogram2dcontour"
           }
          ],
          "mesh3d": [
           {
            "colorbar": {
             "outlinewidth": 0,
             "ticks": ""
            },
            "type": "mesh3d"
           }
          ],
          "parcoords": [
           {
            "line": {
             "colorbar": {
              "outlinewidth": 0,
              "ticks": ""
             }
            },
            "type": "parcoords"
           }
          ],
          "pie": [
           {
            "automargin": true,
            "type": "pie"
           }
          ],
          "scatter": [
           {
            "fillpattern": {
             "fillmode": "overlay",
             "size": 10,
             "solidity": 0.2
            },
            "type": "scatter"
           }
          ],
          "scatter3d": [
           {
            "line": {
             "colorbar": {
              "outlinewidth": 0,
              "ticks": ""
             }
            },
            "marker": {
             "colorbar": {
              "outlinewidth": 0,
              "ticks": ""
             }
            },
            "type": "scatter3d"
           }
          ],
          "scattercarpet": [
           {
            "marker": {
             "colorbar": {
              "outlinewidth": 0,
              "ticks": ""
             }
            },
            "type": "scattercarpet"
           }
          ],
          "scattergeo": [
           {
            "marker": {
             "colorbar": {
              "outlinewidth": 0,
              "ticks": ""
             }
            },
            "type": "scattergeo"
           }
          ],
          "scattergl": [
           {
            "marker": {
             "colorbar": {
              "outlinewidth": 0,
              "ticks": ""
             }
            },
            "type": "scattergl"
           }
          ],
          "scattermapbox": [
           {
            "marker": {
             "colorbar": {
              "outlinewidth": 0,
              "ticks": ""
             }
            },
            "type": "scattermapbox"
           }
          ],
          "scatterpolar": [
           {
            "marker": {
             "colorbar": {
              "outlinewidth": 0,
              "ticks": ""
             }
            },
            "type": "scatterpolar"
           }
          ],
          "scatterpolargl": [
           {
            "marker": {
             "colorbar": {
              "outlinewidth": 0,
              "ticks": ""
             }
            },
            "type": "scatterpolargl"
           }
          ],
          "scatterternary": [
           {
            "marker": {
             "colorbar": {
              "outlinewidth": 0,
              "ticks": ""
             }
            },
            "type": "scatterternary"
           }
          ],
          "surface": [
           {
            "colorbar": {
             "outlinewidth": 0,
             "ticks": ""
            },
            "colorscale": [
             [
              0,
              "#0d0887"
             ],
             [
              0.1111111111111111,
              "#46039f"
             ],
             [
              0.2222222222222222,
              "#7201a8"
             ],
             [
              0.3333333333333333,
              "#9c179e"
             ],
             [
              0.4444444444444444,
              "#bd3786"
             ],
             [
              0.5555555555555556,
              "#d8576b"
             ],
             [
              0.6666666666666666,
              "#ed7953"
             ],
             [
              0.7777777777777778,
              "#fb9f3a"
             ],
             [
              0.8888888888888888,
              "#fdca26"
             ],
             [
              1,
              "#f0f921"
             ]
            ],
            "type": "surface"
           }
          ],
          "table": [
           {
            "cells": {
             "fill": {
              "color": "#EBF0F8"
             },
             "line": {
              "color": "white"
             }
            },
            "header": {
             "fill": {
              "color": "#C8D4E3"
             },
             "line": {
              "color": "white"
             }
            },
            "type": "table"
           }
          ]
         },
         "layout": {
          "annotationdefaults": {
           "arrowcolor": "#2a3f5f",
           "arrowhead": 0,
           "arrowwidth": 1
          },
          "autotypenumbers": "strict",
          "coloraxis": {
           "colorbar": {
            "outlinewidth": 0,
            "ticks": ""
           }
          },
          "colorscale": {
           "diverging": [
            [
             0,
             "#8e0152"
            ],
            [
             0.1,
             "#c51b7d"
            ],
            [
             0.2,
             "#de77ae"
            ],
            [
             0.3,
             "#f1b6da"
            ],
            [
             0.4,
             "#fde0ef"
            ],
            [
             0.5,
             "#f7f7f7"
            ],
            [
             0.6,
             "#e6f5d0"
            ],
            [
             0.7,
             "#b8e186"
            ],
            [
             0.8,
             "#7fbc41"
            ],
            [
             0.9,
             "#4d9221"
            ],
            [
             1,
             "#276419"
            ]
           ],
           "sequential": [
            [
             0,
             "#0d0887"
            ],
            [
             0.1111111111111111,
             "#46039f"
            ],
            [
             0.2222222222222222,
             "#7201a8"
            ],
            [
             0.3333333333333333,
             "#9c179e"
            ],
            [
             0.4444444444444444,
             "#bd3786"
            ],
            [
             0.5555555555555556,
             "#d8576b"
            ],
            [
             0.6666666666666666,
             "#ed7953"
            ],
            [
             0.7777777777777778,
             "#fb9f3a"
            ],
            [
             0.8888888888888888,
             "#fdca26"
            ],
            [
             1,
             "#f0f921"
            ]
           ],
           "sequentialminus": [
            [
             0,
             "#0d0887"
            ],
            [
             0.1111111111111111,
             "#46039f"
            ],
            [
             0.2222222222222222,
             "#7201a8"
            ],
            [
             0.3333333333333333,
             "#9c179e"
            ],
            [
             0.4444444444444444,
             "#bd3786"
            ],
            [
             0.5555555555555556,
             "#d8576b"
            ],
            [
             0.6666666666666666,
             "#ed7953"
            ],
            [
             0.7777777777777778,
             "#fb9f3a"
            ],
            [
             0.8888888888888888,
             "#fdca26"
            ],
            [
             1,
             "#f0f921"
            ]
           ]
          },
          "colorway": [
           "#636efa",
           "#EF553B",
           "#00cc96",
           "#ab63fa",
           "#FFA15A",
           "#19d3f3",
           "#FF6692",
           "#B6E880",
           "#FF97FF",
           "#FECB52"
          ],
          "font": {
           "color": "#2a3f5f"
          },
          "geo": {
           "bgcolor": "white",
           "lakecolor": "white",
           "landcolor": "#E5ECF6",
           "showlakes": true,
           "showland": true,
           "subunitcolor": "white"
          },
          "hoverlabel": {
           "align": "left"
          },
          "hovermode": "closest",
          "mapbox": {
           "style": "light"
          },
          "paper_bgcolor": "white",
          "plot_bgcolor": "#E5ECF6",
          "polar": {
           "angularaxis": {
            "gridcolor": "white",
            "linecolor": "white",
            "ticks": ""
           },
           "bgcolor": "#E5ECF6",
           "radialaxis": {
            "gridcolor": "white",
            "linecolor": "white",
            "ticks": ""
           }
          },
          "scene": {
           "xaxis": {
            "backgroundcolor": "#E5ECF6",
            "gridcolor": "white",
            "gridwidth": 2,
            "linecolor": "white",
            "showbackground": true,
            "ticks": "",
            "zerolinecolor": "white"
           },
           "yaxis": {
            "backgroundcolor": "#E5ECF6",
            "gridcolor": "white",
            "gridwidth": 2,
            "linecolor": "white",
            "showbackground": true,
            "ticks": "",
            "zerolinecolor": "white"
           },
           "zaxis": {
            "backgroundcolor": "#E5ECF6",
            "gridcolor": "white",
            "gridwidth": 2,
            "linecolor": "white",
            "showbackground": true,
            "ticks": "",
            "zerolinecolor": "white"
           }
          },
          "shapedefaults": {
           "line": {
            "color": "#2a3f5f"
           }
          },
          "ternary": {
           "aaxis": {
            "gridcolor": "white",
            "linecolor": "white",
            "ticks": ""
           },
           "baxis": {
            "gridcolor": "white",
            "linecolor": "white",
            "ticks": ""
           },
           "bgcolor": "#E5ECF6",
           "caxis": {
            "gridcolor": "white",
            "linecolor": "white",
            "ticks": ""
           }
          },
          "title": {
           "x": 0.05
          },
          "xaxis": {
           "automargin": true,
           "gridcolor": "white",
           "linecolor": "white",
           "ticks": "",
           "title": {
            "standoff": 15
           },
           "zerolinecolor": "white",
           "zerolinewidth": 2
          },
          "yaxis": {
           "automargin": true,
           "gridcolor": "white",
           "linecolor": "white",
           "ticks": "",
           "title": {
            "standoff": 15
           },
           "zerolinecolor": "white",
           "zerolinewidth": 2
          }
         }
        },
        "title": {
         "text": "Proporción de víctimas por tipo de vehículo involucrado en accidentes de tránsito en CABA"
        }
       }
      }
     },
     "metadata": {},
     "output_type": "display_data"
    },
    {
     "name": "stdout",
     "output_type": "stream",
     "text": [
      "Proporción de víctimas por tipo de vehículo involucrado en accidentes de tránsito en CABA:\n",
      "VICTIMA\n",
      "moto           0.430029\n",
      "peaton         0.383382\n",
      "auto           0.120991\n",
      "bicicleta      0.042274\n",
      "cargas         0.010204\n",
      "pasajeros      0.007289\n",
      "movil          0.002915\n",
      "objeto fijo    0.001458\n",
      "peaton_moto    0.001458\n",
      "Name: proportion, dtype: float64\n"
     ]
    }
   ],
   "source": [
    "# Obtener la proporción de víctimas por tipo de vehículo involucrado\n",
    "proporcion_victimas = df['VICTIMA'].value_counts(normalize=True)\n",
    "\n",
    "# Crear el DataFrame con los datos del KPI\n",
    "df_kpi3= pd.DataFrame({\n",
    "    'Tipo de vehículo': proporcion_victimas.index,\n",
    "    'Proporción de víctimas': proporcion_victimas.values\n",
    "})\n",
    "\n",
    "# Exportar el DataFrame a un archivo CSV\n",
    "df_kpi3.to_csv(r'CleanData/kpi3.csv', index=False)\n",
    "\n",
    "# Resto del código para crear el gráfico interactivo con Plotly\n",
    "fig = go.Figure(data=[go.Pie(labels=proporcion_victimas.index, values=proporcion_victimas.values)])\n",
    "\n",
    "fig.update_layout(\n",
    "    title='Proporción de víctimas por tipo de vehículo involucrado en accidentes de tránsito en CABA',\n",
    "    hovermode='closest'\n",
    ")\n",
    "\n",
    "fig.show()\n",
    "\n",
    "print(\"Proporción de víctimas por tipo de vehículo involucrado en accidentes de tránsito en CABA:\")\n",
    "print(proporcion_victimas)"
   ]
  },
  {
   "cell_type": "markdown",
   "metadata": {},
   "source": [
    "El gráfico de pastel muestra la proporción de víctimas por tipo de vehículo involucrado en accidentes de tránsito en CABA. Cada porción del pastel representa un tipo de vehículo, y el tamaño de la porción indica la proporción de víctimas asociadas a ese tipo de vehículo. Al pasar el cursor sobre las porciones del pastel, se puede ver el porcentaje exacto de víctimas para cada tipo de vehículo. Este gráfico permite identificar los tipos de vehículos que están más involucrados en accidentes con víctimas en CABA. Los tipos de vehículos con mayor proporción de víctimas pueden ser objetivos prioritarios para las medidas de seguridad vial y las campañas de concientización."
   ]
  },
  {
   "cell_type": "markdown",
   "metadata": {},
   "source": [
    "## Conclusiones\n",
    "\n",
    "En este análisis, hemos calculado y graficado los KPIs propuestos para evaluar la evolución de los accidentes de tránsito en CABA. Además, hemos propuesto y medido un tercer KPI relevante para la temática.\n",
    "\n",
    "Los resultados obtenidos pueden ser incluidos en un dashboard para presentar de manera clara y concisa los KPIs relevantes para el análisis de accidentes de tránsito en CABA. El dashboard permitirá a los tomadores de decisiones evaluar el progreso hacia los objetivos de reducción de accidentes y identificar áreas de mejora en la seguridad vial."
   ]
  }
 ],
 "metadata": {
  "kernelspec": {
   "display_name": "Python 3",
   "language": "python",
   "name": "python3"
  },
  "language_info": {
   "codemirror_mode": {
    "name": "ipython",
    "version": 3
   },
   "file_extension": ".py",
   "mimetype": "text/x-python",
   "name": "python",
   "nbconvert_exporter": "python",
   "pygments_lexer": "ipython3",
   "version": "3.11.9"
  }
 },
 "nbformat": 4,
 "nbformat_minor": 2
}
